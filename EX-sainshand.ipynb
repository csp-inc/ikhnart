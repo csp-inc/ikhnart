{
 "cells": [
  {
   "cell_type": "code",
   "execution_count": null,
   "metadata": {},
   "outputs": [],
   "source": [
    "%%bash\n",
    "pip install geopandas\n",
    "pip install descartes"
   ]
  },
  {
   "cell_type": "code",
   "execution_count": 3,
   "metadata": {},
   "outputs": [],
   "source": [
    "from glob import glob\n",
    "import geopandas as gpd\n",
    "import matplotlib.pyplot as plt\n",
    "import numpy as np"
   ]
  },
  {
   "cell_type": "code",
   "execution_count": 5,
   "metadata": {},
   "outputs": [
    {
     "name": "stdout",
     "output_type": "stream",
     "text": [
      "['/content/data/shp/Sainshand_sum.shp']\n"
     ]
    }
   ],
   "source": [
    "files = sorted(glob('/content/data/*/*.shp'))\n",
    "print(files)"
   ]
  },
  {
   "cell_type": "code",
   "execution_count": 18,
   "metadata": {},
   "outputs": [],
   "source": [
    "sainshand = gpd.read_file(files[0], SHAPE_RESTORE_SHX='YES')\n",
    "crs = {'init': 'epsg:32649'}\n",
    "sainshand.crs = crs\n",
    "#utm_zone is 48N or code 32649\n",
    "\n"
   ]
  },
  {
   "cell_type": "code",
   "execution_count": 29,
   "metadata": {},
   "outputs": [
    {
     "data": {
      "image/png": "[encoded data removed]",
      "text/plain": [
       "<Figure size 432x288 with 1 Axes>"
      ]
     },
     "metadata": {
      "needs_background": "light"
     },
     "output_type": "display_data"
    }
   ],
   "source": [
    "f, ax = plt.subplots(1,1)\n",
    "cmaps = ['viridis']\n",
    "sainshand_wgs = sainshand.to_crs({'init': 'epsg:4326'})\n",
    "sainshand_wgs.plot(ax=ax, cmap=cmaps[0])\n",
    "ax.grid(alpha=0.5)"
   ]
  },
  {
   "cell_type": "code",
   "execution_count": 30,
   "metadata": {},
   "outputs": [
    {
     "data": {
      "text/plain": [
       "0    POINT (115.938524861939 44.60691719930802)\n",
       "dtype: object"
      ]
     },
     "execution_count": 30,
     "metadata": {},
     "output_type": "execute_result"
    }
   ],
   "source": [
    "sainshand_wgs.centroid"
   ]
  },
  {
   "cell_type": "code",
   "execution_count": 186,
   "metadata": {},
   "outputs": [],
   "source": [
    "from shapely.geometry import Point\n",
    "import random\n",
    "\n",
    "def list_to_dataframe(data, crs={'init':'epsg:4326'}):\n",
    "    outdf = gpd.GeoDataFrame(data, columns=['geometry'])\n",
    "    outdf.crs = crs\n",
    "    return(outdf)\n",
    " \n",
    "def check_distance(point, point_list, min_distance, \\\n",
    "                   crs={'init':'epsg:4326'}, utm={'init':'epsg:32649'}):\n",
    "    points = list_to_dataframe(point_list)\n",
    "    points = points.to_crs(utm)\n",
    "    p = list_to_dataframe([point]).to_crs(utm)\n",
    "    p = p.to_crs(utm)\n",
    "    distances = np.array([p.geometry.distance(pnt) for pnt in points.geometry])\n",
    "    m = np.min(distances)\n",
    "    if m>min_distance:\n",
    "        return(True)\n",
    "    else:\n",
    "        return(False)\n",
    "    \n",
    "def random_points_in_polygon(number, polygon, min_distance):\n",
    "    points = []\n",
    "    min_x, min_y, max_x, max_y = polygon.bounds\n",
    "    i = 0\n",
    "    while i < number:\n",
    "        candidate_point = Point(random.uniform(min_x, max_x), \\\n",
    "                                random.uniform(min_y, max_y))\n",
    "        if polygon.contains(candidate_point):\n",
    "            if i==0:\n",
    "                points.append(candidate_point)\n",
    "                i += 1\n",
    "            if i>=1:\n",
    "                if check_distance(candidate_point, points, min_distance):\n",
    "                    points.append(candidate_point)\n",
    "                    i += 1\n",
    "                \n",
    "    return gpd.GeoDataFrame(points, columns=['geometry'])  # returns list of shapely point"
   ]
  },
  {
   "cell_type": "code",
   "execution_count": 196,
   "metadata": {},
   "outputs": [],
   "source": [
    "n = 300\n",
    "points = random_points_in_polygon(n, ikhnart_bounds.iloc[0].geometry, 1000)"
   ]
  },
  {
   "cell_type": "code",
   "execution_count": 197,
   "metadata": {},
   "outputs": [
    {
     "data": {
      "image/png": "[encoded data removed]",
      "text/plain": [
       "<Figure size 432x288 with 1 Axes>"
      ]
     },
     "metadata": {
      "needs_background": "light"
     },
     "output_type": "display_data"
    }
   ],
   "source": [
    "f, ax = plt.subplots(1,1)\n",
    "cmaps = ['viridis']\n",
    "ikhnart_bounds.plot(ax=ax, cmap=cmaps[0])\n",
    "ax.grid(alpha=0.5)\n",
    "points.plot(ax=ax, color='red')\n",
    "points.crs = crs"
   ]
  },
  {
   "cell_type": "code",
   "execution_count": 233,
   "metadata": {},
   "outputs": [],
   "source": [
    "import pandas as pd\n",
    "out = pd.DataFrame(np.array([np.arange(len(points)),\\\n",
    "                             points.geometry.y,\\\n",
    "                             points.geometry.x]).T,\\\n",
    "                   columns=['PlotKey','Latitude','Longitude'])\n",
    "out.PlotKey = out.PlotKey.astype(int)"
   ]
  },
  {
   "cell_type": "code",
   "execution_count": 235,
   "metadata": {},
   "outputs": [],
   "source": [
    "out.to_csv('ikhnart_points_v1.csv',index=False)"
   ]
  },
  {
   "cell_type": "code",
   "execution_count": null,
   "metadata": {},
   "outputs": [],
   "source": []
  }
 ],
 "metadata": {
  "kernelspec": {
   "display_name": "Python 3",
   "language": "python",
   "name": "python3"
  },
  "language_info": {
   "codemirror_mode": {
    "name": "ipython",
    "version": 3
   },
   "file_extension": ".py",
   "mimetype": "text/x-python",
   "name": "python",
   "nbconvert_exporter": "python",
   "pygments_lexer": "ipython3",
   "version": "3.5.2"
  }
 },
 "nbformat": 4,
 "nbformat_minor": 2
}
