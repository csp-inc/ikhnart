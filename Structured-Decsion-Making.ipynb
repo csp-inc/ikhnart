{
 "cells": [
  {
   "cell_type": "code",
   "execution_count": 1,
   "metadata": {},
   "outputs": [],
   "source": [
    "import numpy as np\n",
    "import pandas as pd\n",
    "import matplotlib.pyplot as plt"
   ]
  },
  {
   "cell_type": "code",
   "execution_count": 35,
   "metadata": {},
   "outputs": [],
   "source": [
    "def normalizer(x):\n",
    "    return((x - np.min(x))/(np.max(x)-np.min(x)))"
   ]
  },
  {
   "cell_type": "code",
   "execution_count": 13,
   "metadata": {},
   "outputs": [],
   "source": [
    "objectives =['water',\\\n",
    "      'pasturelands',\\\n",
    "      'tourism',\\\n",
    "      'wildlife',\\\n",
    "      'livestock',\\\n",
    "      'health',\\\n",
    "      'education',\\\n",
    "      'landscape',\\\n",
    "      'nomadic_culture']\n",
    "counts = np.array([[32,7,4],\\\n",
    "         [3,18,1],\\\n",
    "         [0,1,1],\\\n",
    "         [1,6,8],\\\n",
    "         [2,3,5],\\\n",
    "         [1,5,7],\\\n",
    "         [4,5,15],\\\n",
    "         [2,1,0],\\\n",
    "         [2,1,6]])"
   ]
  },
  {
   "cell_type": "code",
   "execution_count": 71,
   "metadata": {},
   "outputs": [],
   "source": [
    "ranking = ['rank1','rank2','rank3']\n",
    "obj = pd.DataFrame(counts, columns=ranking)\n",
    "obj['objective'] = objectives\n",
    "n = np.sum(obj.rank1)"
   ]
  },
  {
   "cell_type": "code",
   "execution_count": 75,
   "metadata": {},
   "outputs": [
    {
     "data": {
      "text/plain": [
       "['normed_rank1', 'normed_rank2', 'normed_rank3']"
      ]
     },
     "execution_count": 75,
     "metadata": {},
     "output_type": "execute_result"
    }
   ],
   "source": [
    "['normed_%s'%(r) for r in ranking]"
   ]
  },
  {
   "cell_type": "code",
   "execution_count": 83,
   "metadata": {},
   "outputs": [],
   "source": [
    "for r,n in zip(ranking,[normalizer(obj[x]) for x in ranking]):\n",
    "    obj['normed_%s'%r] = n"
   ]
  },
  {
   "cell_type": "code",
   "execution_count": 85,
   "metadata": {},
   "outputs": [],
   "source": [
    "obj['sum_weight'] = np.sum(normed, axis=1)"
   ]
  },
  {
   "cell_type": "code",
   "execution_count": 86,
   "metadata": {},
   "outputs": [
    {
     "data": {
      "text/html": [
       "<div>\n",
       "<style scoped>\n",
       "    .dataframe tbody tr th:only-of-type {\n",
       "        vertical-align: middle;\n",
       "    }\n",
       "\n",
       "    .dataframe tbody tr th {\n",
       "        vertical-align: top;\n",
       "    }\n",
       "\n",
       "    .dataframe thead th {\n",
       "        text-align: right;\n",
       "    }\n",
       "</style>\n",
       "<table border=\"1\" class=\"dataframe\">\n",
       "  <thead>\n",
       "    <tr style=\"text-align: right;\">\n",
       "      <th></th>\n",
       "      <th>rank1</th>\n",
       "      <th>rank2</th>\n",
       "      <th>rank3</th>\n",
       "      <th>objective</th>\n",
       "      <th>normed_rank1</th>\n",
       "      <th>normed_rank2</th>\n",
       "      <th>normed_rank3</th>\n",
       "      <th>sum_weight</th>\n",
       "    </tr>\n",
       "  </thead>\n",
       "  <tbody>\n",
       "    <tr>\n",
       "      <th>0</th>\n",
       "      <td>32</td>\n",
       "      <td>7</td>\n",
       "      <td>4</td>\n",
       "      <td>water</td>\n",
       "      <td>1.00000</td>\n",
       "      <td>0.352941</td>\n",
       "      <td>0.266667</td>\n",
       "      <td>1.619608</td>\n",
       "    </tr>\n",
       "    <tr>\n",
       "      <th>1</th>\n",
       "      <td>3</td>\n",
       "      <td>18</td>\n",
       "      <td>1</td>\n",
       "      <td>pasturelands</td>\n",
       "      <td>0.09375</td>\n",
       "      <td>1.000000</td>\n",
       "      <td>0.066667</td>\n",
       "      <td>1.160417</td>\n",
       "    </tr>\n",
       "    <tr>\n",
       "      <th>2</th>\n",
       "      <td>0</td>\n",
       "      <td>1</td>\n",
       "      <td>1</td>\n",
       "      <td>tourism</td>\n",
       "      <td>0.00000</td>\n",
       "      <td>0.000000</td>\n",
       "      <td>0.066667</td>\n",
       "      <td>0.066667</td>\n",
       "    </tr>\n",
       "    <tr>\n",
       "      <th>3</th>\n",
       "      <td>1</td>\n",
       "      <td>6</td>\n",
       "      <td>8</td>\n",
       "      <td>wildlife</td>\n",
       "      <td>0.03125</td>\n",
       "      <td>0.294118</td>\n",
       "      <td>0.533333</td>\n",
       "      <td>0.858701</td>\n",
       "    </tr>\n",
       "    <tr>\n",
       "      <th>4</th>\n",
       "      <td>2</td>\n",
       "      <td>3</td>\n",
       "      <td>5</td>\n",
       "      <td>livestock</td>\n",
       "      <td>0.06250</td>\n",
       "      <td>0.117647</td>\n",
       "      <td>0.333333</td>\n",
       "      <td>0.513480</td>\n",
       "    </tr>\n",
       "    <tr>\n",
       "      <th>5</th>\n",
       "      <td>1</td>\n",
       "      <td>5</td>\n",
       "      <td>7</td>\n",
       "      <td>health</td>\n",
       "      <td>0.03125</td>\n",
       "      <td>0.235294</td>\n",
       "      <td>0.466667</td>\n",
       "      <td>0.733211</td>\n",
       "    </tr>\n",
       "    <tr>\n",
       "      <th>6</th>\n",
       "      <td>4</td>\n",
       "      <td>5</td>\n",
       "      <td>15</td>\n",
       "      <td>education</td>\n",
       "      <td>0.12500</td>\n",
       "      <td>0.235294</td>\n",
       "      <td>1.000000</td>\n",
       "      <td>1.360294</td>\n",
       "    </tr>\n",
       "    <tr>\n",
       "      <th>7</th>\n",
       "      <td>2</td>\n",
       "      <td>1</td>\n",
       "      <td>0</td>\n",
       "      <td>landscape</td>\n",
       "      <td>0.06250</td>\n",
       "      <td>0.000000</td>\n",
       "      <td>0.000000</td>\n",
       "      <td>0.062500</td>\n",
       "    </tr>\n",
       "    <tr>\n",
       "      <th>8</th>\n",
       "      <td>2</td>\n",
       "      <td>1</td>\n",
       "      <td>6</td>\n",
       "      <td>nomadic_culture</td>\n",
       "      <td>0.06250</td>\n",
       "      <td>0.000000</td>\n",
       "      <td>0.400000</td>\n",
       "      <td>0.462500</td>\n",
       "    </tr>\n",
       "  </tbody>\n",
       "</table>\n",
       "</div>"
      ],
      "text/plain": [
       "   rank1  rank2  rank3        objective  normed_rank1  normed_rank2  \\\n",
       "0     32      7      4            water       1.00000      0.352941   \n",
       "1      3     18      1     pasturelands       0.09375      1.000000   \n",
       "2      0      1      1          tourism       0.00000      0.000000   \n",
       "3      1      6      8         wildlife       0.03125      0.294118   \n",
       "4      2      3      5        livestock       0.06250      0.117647   \n",
       "5      1      5      7           health       0.03125      0.235294   \n",
       "6      4      5     15        education       0.12500      0.235294   \n",
       "7      2      1      0        landscape       0.06250      0.000000   \n",
       "8      2      1      6  nomadic_culture       0.06250      0.000000   \n",
       "\n",
       "   normed_rank3  sum_weight  \n",
       "0      0.266667    1.619608  \n",
       "1      0.066667    1.160417  \n",
       "2      0.066667    0.066667  \n",
       "3      0.533333    0.858701  \n",
       "4      0.333333    0.513480  \n",
       "5      0.466667    0.733211  \n",
       "6      1.000000    1.360294  \n",
       "7      0.000000    0.062500  \n",
       "8      0.400000    0.462500  "
      ]
     },
     "execution_count": 86,
     "metadata": {},
     "output_type": "execute_result"
    }
   ],
   "source": []
  },
  {
   "cell_type": "code",
   "execution_count": null,
   "metadata": {},
   "outputs": [],
   "source": []
  }
 ],
 "metadata": {
  "kernelspec": {
   "display_name": "Python 3",
   "language": "python",
   "name": "python3"
  },
  "language_info": {
   "codemirror_mode": {
    "name": "ipython",
    "version": 3
   },
   "file_extension": ".py",
   "mimetype": "text/x-python",
   "name": "python",
   "nbconvert_exporter": "python",
   "pygments_lexer": "ipython3",
   "version": "3.5.2"
  }
 },
 "nbformat": 4,
 "nbformat_minor": 2
}
