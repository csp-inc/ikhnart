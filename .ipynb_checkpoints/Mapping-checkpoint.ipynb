{
 "cells": [
  {
   "cell_type": "code",
   "execution_count": 1,
   "metadata": {},
   "outputs": [],
   "source": [
    "import geopandas as gpd\n",
    "import geoplot\n",
    "from glob import glob\n",
    "import matplotlib.pyplot as plt\n",
    "import matplotlib as mpl\n",
    "import rasterio\n",
    "from rasterio.plot import show\n",
    "import fiona\n",
    "from descartes import PolygonPatch"
   ]
  },
  {
   "cell_type": "code",
   "execution_count": null,
   "metadata": {},
   "outputs": [],
   "source": [
    "wd = 'data/IN_expansion_area_UTM'\n",
    "f = glob(f'{wd}/*.shp')[0]\n",
    "df = gpd.read_file(f).to_crs(epsg=4326)\n",
    "wd = 'data/RioMoraNWRBndry_2019'\n",
    "f = glob(f'{wd}/*.shp')[0]\n",
    "rio = gpd.read_file(f).to_crs(epsg=4326)\n"
   ]
  },
  {
   "cell_type": "code",
   "execution_count": null,
   "metadata": {},
   "outputs": [],
   "source": [
    "# look at the WDPA-data to compare.\n",
    "wdpa_file = glob(f'data/WDPAshp_filtered/*.shp')[0]\n",
    "print(wdpa_file)\n",
    "wdpa = gpd.read_file(wdpa_file).to_crs(epsg=4326)\n",
    "wdpa"
   ]
  },
  {
   "cell_type": "code",
   "execution_count": null,
   "metadata": {},
   "outputs": [],
   "source": [
    "ikhnart = df[df.ENG_NAME=='Ikh nart']\n",
    "in_lat = float(ikhnart.geometry.centroid.y)\n",
    "in_lon = float(ikhnart.geometry.centroid.x)"
   ]
  },
  {
   "cell_type": "code",
   "execution_count": null,
   "metadata": {},
   "outputs": [],
   "source": [
    "world = gpd.read_file(gpd.datasets.get_path('naturalearth_lowres'))\n",
    "mongolia = gpd.read_file('data/mongolia/mongolia69.shp')\n",
    "states = gpd.read_file('data/json/gz_2010_us_040_00_5m.json')\n",
    "NM = states[states['NAME']=='New Mexico']\n",
    "dem = rasterio.open('data/geotiff/srtm-dem.tif')\n",
    "\n",
    "riomora=wdpa[wdpa.NAME=='Rio Mora National Wildlife Refu']\n",
    "rm_lat = float(riomora.geometry.centroid.y)\n",
    "rm_lon = float(riomora.geometry.centroid.x)"
   ]
  },
  {
   "cell_type": "code",
   "execution_count": null,
   "metadata": {},
   "outputs": [],
   "source": [
    "fig, axarr = plt.subplots(1,2, figsize=(8,4),\\\n",
    "                        subplot_kw={'projection':\\\n",
    "                                    geoplot.crs.Orthographic(central_latitude=in_lat,\\\n",
    "                                              central_longitude=in_lon)})\n",
    "geoplot.polyplot(mongolia, facecolor='red', ax=axarr[0])\n",
    "geoplot.polyplot(ikhnart, facecolor='yellow', ax=axarr[0])\n",
    "geoplot.polyplot(ikhnart, ax=axarr[1], \\\n",
    "                 facecolor='none', \\\n",
    "                 edgecolor='black')\n",
    "\n",
    "#show(dem.read(), ax = axarr[1])\n",
    "\n",
    "axarr[0].set_global()\n",
    "axarr[0].outline_patch.set_visible(True)\n",
    "axarr[0].coastlines()\n",
    "axarr[0].gridlines()\n",
    "\n",
    "ax0tr = axarr[0].transData # Axis 0 -> Display\n",
    "ax1tr = axarr[1].transData # Axis 1 -> Display\n",
    "figtr = fig.transFigure.inverted() # Display -> Figure\n",
    "# 2. Transform arrow start point from axis 0 to figure coordinates\n",
    "ptB = figtr.transform(ax0tr.transform((225., -10.)))\n",
    "# 3. Transform arrow end point from axis 1 to figure coordinates\n",
    "ptE = figtr.transform(ax1tr.transform((225., 1.)))\n",
    "# 4. Create the patch\n",
    "arrow = mpl.patches.FancyArrowPatch(\n",
    "    # Place arrow in figure coord system\n",
    "    ptB, ptE, transform=fig.transFigure, \\\n",
    "    fc = \"blue\", connectionstyle=\"arc3,rad=0.2\", \\\n",
    "    arrowstyle='simple', \\\n",
    "    alpha = 0.1,\\\n",
    "    mutation_scale = 40.\n",
    ")\n",
    "# 5. Add patch to list of objects to draw onto the figure\n",
    "fig.patches.append(arrow)\n",
    "fig.savefig('figs/iknart_map.png', dpi=200, bbox_inches='tight')\n"
   ]
  },
  {
   "cell_type": "code",
   "execution_count": null,
   "metadata": {},
   "outputs": [],
   "source": [
    "fig, axarr = plt.subplots(1,2, figsize=(8,4),\\\n",
    "                        subplot_kw={'projection':\\\n",
    "                                    geoplot.crs.Orthographic(central_latitude=rm_lat,\\\n",
    "                                              central_longitude=rm_lon)})\n",
    "geoplot.polyplot(NM, facecolor='red', ax=axarr[0])\n",
    "geoplot.polyplot(riomora, facecolor='yellow', ax=axarr[0])\n",
    "geoplot.polyplot(riomora, ax=axarr[1], \\\n",
    "                 facecolor='none', \\\n",
    "                 edgecolor='black')\n",
    "\n",
    "#show(dem.read(), ax = axarr[1])\n",
    "\n",
    "axarr[0].set_global()\n",
    "axarr[0].outline_patch.set_visible(True)\n",
    "axarr[0].coastlines()\n",
    "axarr[0].gridlines()\n",
    "\n",
    "ax0tr = axarr[0].transData # Axis 0 -> Display\n",
    "ax1tr = axarr[1].transData # Axis 1 -> Display\n",
    "figtr = fig.transFigure.inverted() # Display -> Figure\n",
    "# 2. Transform arrow start point from axis 0 to figure coordinates\n",
    "ptB = figtr.transform(ax0tr.transform((225., -10.)))\n",
    "# 3. Transform arrow end point from axis 1 to figure coordinates\n",
    "ptE = figtr.transform(ax1tr.transform((225., 1.)))\n",
    "# 4. Create the patch\n",
    "arrow = mpl.patches.FancyArrowPatch(\n",
    "    # Place arrow in figure coord system\n",
    "    ptB, ptE, transform=fig.transFigure, \\\n",
    "    fc = \"blue\", connectionstyle=\"arc3,rad=0.2\", \\\n",
    "    arrowstyle='simple', \\\n",
    "    alpha = 0.1,\\\n",
    "    mutation_scale = 40.\n",
    ")\n",
    "# 5. Add patch to list of objects to draw onto the figure\n",
    "fig.patches.append(arrow)\n",
    "fig.savefig('figs/riomora_map.png', dpi=200, bbox_inches='tight')\n"
   ]
  },
  {
   "cell_type": "markdown",
   "metadata": {},
   "source": [
    "# now show all the WDPA's in USA"
   ]
  },
  {
   "cell_type": "code",
   "execution_count": null,
   "metadata": {},
   "outputs": [],
   "source": [
    "# look at the WDPA-data to compare.\n",
    "wdpa_file = glob(f'data/WDPAshp/*.shp')[0]\n",
    "wdpa = gpd.read_file(wdpa_file).to_crs(epsg=4326)\n",
    "\n",
    "\n",
    "us_file = glob(f'data/json/USA.json')[0]\n",
    "usa = gpd.read_file(us_file).to_crs(epsg=4326)"
   ]
  },
  {
   "cell_type": "code",
   "execution_count": null,
   "metadata": {},
   "outputs": [],
   "source": [
    "subset = wdpa[(wdpa.MARINE=='0') & (wdpa.PARENT_ISO=='USA')]\n",
    "# removing the Marine areas\n",
    "subset.to_file('data/json/wdpa_usa.json', driver='GeoJSON')"
   ]
  },
  {
   "cell_type": "code",
   "execution_count": 16,
   "metadata": {},
   "outputs": [],
   "source": [
    "wdpa_cont_us = subset[(subset.SUB_LOC != 'Not Reported') & \\\n",
    "                 (subset.SUB_LOC != 'US-AK') & \\\n",
    "                 (subset.SUB_LOC != 'US-HI')]\n",
    "x = [row for index,row in wdpa_cont_us.iterrows() if 'US-N/A' not in row.SUB_LOC]\n",
    "wdpa_cont_us = gpd.GeoDataFrame(x)\n",
    "wdpa_cont_us.to_file('data/json/wdpa_contiguous_usa.json', driver='GeoJSON')\n",
    "\n",
    "wdpa_hi = subset[(subset.SUB_LOC != 'Not Reported') & \\\n",
    "                 (subset.SUB_LOC == 'US-HI')]\n",
    "x = [row for index,row in wdpa_hi.iterrows() if 'US-N/A' not in row.SUB_LOC]\n",
    "wdpa_hi = gpd.GeoDataFrame(x)\n",
    "wdpa_hi.to_file('data/json/wdpa_usa_hi.json', driver='GeoJSON')\n",
    "\n",
    "wdpa_ak = subset[(subset.SUB_LOC != 'Not Reported') & \\\n",
    "                 (subset.SUB_LOC == 'US-AK')]\n",
    "x = [row for index,row in wdpa_ak.iterrows() if 'US-N/A' not in row.SUB_LOC]\n",
    "wdpa_ak = gpd.GeoDataFrame(x)\n",
    "wdpa_ak.to_file('data/json/wdpa_usa_ak.json', driver='GeoJSON')"
   ]
  },
  {
   "cell_type": "code",
   "execution_count": 4,
   "metadata": {},
   "outputs": [],
   "source": [
    "subset = gpd.read_file('data/json/wdpa_usa.json', driver='GeoJSON')\n",
    "usa_wdpa = subset[(subset.SUB_LOC != 'Not Reported')]\n",
    "x = [row for index,row in usa_wdpa.iterrows() if 'US-N/A' not in row.SUB_LOC]\n",
    "usa_wdpa = gpd.GeoDataFrame(x)\n",
    "usa_wdpa.to_file('data/json/wdpa_usa_all.json', driver='GeoJSON')"
   ]
  },
  {
   "cell_type": "code",
   "execution_count": null,
   "metadata": {},
   "outputs": [],
   "source": [
    "import matplotlib.gridspec as gridspec\n",
    "f = plt.figure(constrained_layout=False,figsize=(10,6))\n",
    "gs = gridspec.GridSpec(nrows=4, ncols=5, figure=f)\n",
    "ax0 = f.add_subplot(gs[0:2,0:2])\n",
    "ax1 = f.add_subplot(gs[2,0])\n",
    "ax2 = f.add_subplot(gs[0:,2:])\n",
    "\n",
    "ax2.set_xlim(-125,-63)\n",
    "ax2.set_ylim(25,50)\n",
    "\n",
    "ax0.axis('off')\n",
    "ax1.axis('off')\n",
    "ax2.axis('off')\n",
    "wdpa_ak.plot(ax=ax0,edgecolor='red')\n",
    "wdpa_hi.plot(ax=ax1,edgecolor='red')\n",
    "wdpa_cont_us.plot(ax=ax2,edgecolor='red')"
   ]
  },
  {
   "cell_type": "code",
   "execution_count": 29,
   "metadata": {},
   "outputs": [],
   "source": []
  },
  {
   "cell_type": "code",
   "execution_count": null,
   "metadata": {},
   "outputs": [],
   "source": []
  }
 ],
 "metadata": {
  "kernelspec": {
   "display_name": "Python 3",
   "language": "python",
   "name": "python3"
  },
  "language_info": {
   "codemirror_mode": {
    "name": "ipython",
    "version": 3
   },
   "file_extension": ".py",
   "mimetype": "text/x-python",
   "name": "python",
   "nbconvert_exporter": "python",
   "pygments_lexer": "ipython3",
   "version": "3.6.8"
  }
 },
 "nbformat": 4,
 "nbformat_minor": 2
}
