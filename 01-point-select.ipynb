{
 "cells": [
  {
   "cell_type": "code",
   "execution_count": 30,
   "metadata": {},
   "outputs": [
    {
     "name": "stdout",
     "output_type": "stream",
     "text": [
      "Requirement already satisfied: geopandas in /usr/local/lib/python3.5/dist-packages (0.5.1)\n",
      "Requirement already satisfied: fiona in /usr/local/lib/python3.5/dist-packages (from geopandas) (1.8.6)\n",
      "Requirement already satisfied: shapely in /usr/local/lib/python3.5/dist-packages (from geopandas) (1.6.4.post2)\n",
      "Requirement already satisfied: pyproj in /usr/local/lib/python3.5/dist-packages (from geopandas) (2.2.1)\n",
      "Requirement already satisfied: pandas in /usr/local/lib/python3.5/dist-packages (from geopandas) (0.23.4)\n",
      "Requirement already satisfied: six>=1.7 in /usr/local/lib/python3.5/dist-packages (from fiona->geopandas) (1.11.0)\n",
      "Requirement already satisfied: click<8,>=4.0 in /usr/local/lib/python3.5/dist-packages (from fiona->geopandas) (6.7)\n",
      "Requirement already satisfied: click-plugins>=1.0 in /usr/local/lib/python3.5/dist-packages (from fiona->geopandas) (1.0.3)\n",
      "Requirement already satisfied: cligj>=0.5 in /usr/local/lib/python3.5/dist-packages (from fiona->geopandas) (0.5.0)\n",
      "Requirement already satisfied: munch in /usr/local/lib/python3.5/dist-packages (from fiona->geopandas) (2.3.2)\n",
      "Requirement already satisfied: attrs>=17 in /usr/local/lib/python3.5/dist-packages (from fiona->geopandas) (18.1.0)\n",
      "Requirement already satisfied: aenum; python_version < \"3.6\" in /usr/local/lib/python3.5/dist-packages (from pyproj->geopandas) (2.2.0)\n",
      "Requirement already satisfied: pytz>=2011k in /usr/local/lib/python3.5/dist-packages (from pandas->geopandas) (2018.5)\n",
      "Requirement already satisfied: python-dateutil>=2.5.0 in /usr/local/lib/python3.5/dist-packages (from pandas->geopandas) (2.7.3)\n",
      "Requirement already satisfied: numpy>=1.9.0 in /usr/local/lib/python3.5/dist-packages (from pandas->geopandas) (1.15.1)\n",
      "Requirement already satisfied: descartes in /usr/local/lib/python3.5/dist-packages (1.1.0)\n",
      "Requirement already satisfied: matplotlib in /usr/local/lib/python3.5/dist-packages (from descartes) (2.2.3)\n",
      "Requirement already satisfied: numpy>=1.7.1 in /usr/local/lib/python3.5/dist-packages (from matplotlib->descartes) (1.15.1)\n",
      "Requirement already satisfied: cycler>=0.10 in /usr/local/lib/python3.5/dist-packages (from matplotlib->descartes) (0.10.0)\n",
      "Requirement already satisfied: pytz in /usr/local/lib/python3.5/dist-packages (from matplotlib->descartes) (2018.5)\n",
      "Requirement already satisfied: python-dateutil>=2.1 in /usr/local/lib/python3.5/dist-packages (from matplotlib->descartes) (2.7.3)\n",
      "Requirement already satisfied: kiwisolver>=1.0.1 in /usr/local/lib/python3.5/dist-packages (from matplotlib->descartes) (1.0.1)\n",
      "Requirement already satisfied: pyparsing!=2.0.4,!=2.1.2,!=2.1.6,>=2.0.1 in /usr/local/lib/python3.5/dist-packages (from matplotlib->descartes) (2.2.0)\n",
      "Requirement already satisfied: six>=1.10 in /usr/local/lib/python3.5/dist-packages (from matplotlib->descartes) (1.11.0)\n",
      "Requirement already satisfied: setuptools in /usr/local/lib/python3.5/dist-packages (from kiwisolver>=1.0.1->matplotlib->descartes) (40.2.0)\n"
     ]
    },
    {
     "name": "stderr",
     "output_type": "stream",
     "text": [
      "You are using pip version 18.0, however version 19.2.1 is available.\n",
      "You should consider upgrading via the 'pip install --upgrade pip' command.\n",
      "You are using pip version 18.0, however version 19.2.1 is available.\n",
      "You should consider upgrading via the 'pip install --upgrade pip' command.\n"
     ]
    }
   ],
   "source": [
    "%%bash\n",
    "pip install geopandas\n",
    "pip install descartes"
   ]
  },
  {
   "cell_type": "code",
   "execution_count": 124,
   "metadata": {},
   "outputs": [],
   "source": [
    "from glob import glob\n",
    "import geopandas as gpd\n",
    "import matplotlib.pyplot as plt\n",
    "import numpy as np"
   ]
  },
  {
   "cell_type": "code",
   "execution_count": 18,
   "metadata": {},
   "outputs": [
    {
     "name": "stdout",
     "output_type": "stream",
     "text": [
      "['/content/data/IN_boundary/IN_boundary.shp', '/content/data/IN_corearea/IN_corearea.shp']\n"
     ]
    }
   ],
   "source": [
    "files = sorted(glob('/content/data/*/*.shp'))\n",
    "print(files)"
   ]
  },
  {
   "cell_type": "code",
   "execution_count": 93,
   "metadata": {},
   "outputs": [],
   "source": [
    "ikhnart_bounds = gpd.read_file(files[0])\n",
    "crs = ikhnart_bounds.crs"
   ]
  },
  {
   "cell_type": "code",
   "execution_count": 34,
   "metadata": {},
   "outputs": [
    {
     "data": {
      "image/png": "[encoded data removed]",
      "text/plain": [
       "<Figure size 432x288 with 1 Axes>"
      ]
     },
     "metadata": {
      "needs_background": "light"
     },
     "output_type": "display_data"
    }
   ],
   "source": [
    "f, ax = plt.subplots(1,1)\n",
    "cmaps = ['viridis']\n",
    "ikhnart_bounds.plot(ax=ax, cmap=cmaps[0])\n",
    "ax.grid(alpha=0.5)\n"
   ]
  },
  {
   "cell_type": "code",
   "execution_count": 186,
   "metadata": {},
   "outputs": [],
   "source": [
    "from shapely.geometry import Point\n",
    "import random\n",
    "\n",
    "def list_to_dataframe(data, crs={'init':'epsg:4326'}):\n",
    "    outdf = gpd.GeoDataFrame(data, columns=['geometry'])\n",
    "    outdf.crs = crs\n",
    "    return(outdf)\n",
    " \n",
    "def check_distance(point, point_list, min_distance, \\\n",
    "                   crs={'init':'epsg:4326'}, utm={'init':'epsg:32649'}):\n",
    "    points = list_to_dataframe(point_list)\n",
    "    points = points.to_crs(utm)\n",
    "    p = list_to_dataframe([point]).to_crs(utm)\n",
    "    p = p.to_crs(utm)\n",
    "    distances = np.array([p.geometry.distance(pnt) for pnt in points.geometry])\n",
    "    m = np.min(distances)\n",
    "    if m>min_distance:\n",
    "        return(True)\n",
    "    else:\n",
    "        return(False)\n",
    "    \n",
    "def random_points_in_polygon(number, polygon, min_distance):\n",
    "    points = []\n",
    "    min_x, min_y, max_x, max_y = polygon.bounds\n",
    "    i = 0\n",
    "    while i < number:\n",
    "        candidate_point = Point(random.uniform(min_x, max_x), \\\n",
    "                                random.uniform(min_y, max_y))\n",
    "        if polygon.contains(candidate_point):\n",
    "            if i==0:\n",
    "                points.append(candidate_point)\n",
    "                i += 1\n",
    "            if i>=1:\n",
    "                if check_distance(candidate_point, points, min_distance):\n",
    "                    points.append(candidate_point)\n",
    "                    i += 1\n",
    "                \n",
    "    return gpd.GeoDataFrame(points, columns=['geometry'])  # returns list of shapely point"
   ]
  },
  {
   "cell_type": "code",
   "execution_count": 196,
   "metadata": {},
   "outputs": [],
   "source": [
    "n = 300\n",
    "points = random_points_in_polygon(n, ikhnart_bounds.iloc[0].geometry, 1000)"
   ]
  },
  {
   "cell_type": "code",
   "execution_count": 197,
   "metadata": {},
   "outputs": [
    {
     "data": {
      "image/png": "[encoded data removed]",
      "text/plain": [
       "<Figure size 432x288 with 1 Axes>"
      ]
     },
     "metadata": {
      "needs_background": "light"
     },
     "output_type": "display_data"
    }
   ],
   "source": [
    "f, ax = plt.subplots(1,1)\n",
    "cmaps = ['viridis']\n",
    "ikhnart_bounds.plot(ax=ax, cmap=cmaps[0])\n",
    "ax.grid(alpha=0.5)\n",
    "points.plot(ax=ax, color='red')\n",
    "points.crs = crs"
   ]
  },
  {
   "cell_type": "code",
   "execution_count": 233,
   "metadata": {},
   "outputs": [],
   "source": [
    "import pandas as pd\n",
    "out = pd.DataFrame(np.array([np.arange(len(points)),\\\n",
    "                             points.geometry.y,\\\n",
    "                             points.geometry.x]).T,\\\n",
    "                   columns=['PlotKey','Latitude','Longitude'])\n",
    "out.PlotKey = out.PlotKey.astype(int)"
   ]
  },
  {
   "cell_type": "code",
   "execution_count": 235,
   "metadata": {},
   "outputs": [],
   "source": [
    "out.to_csv('ikhnart_points_v1.csv',index=False)"
   ]
  },
  {
   "cell_type": "code",
   "execution_count": null,
   "metadata": {},
   "outputs": [],
   "source": []
  }
 ],
 "metadata": {
  "kernelspec": {
   "display_name": "Python 3",
   "language": "python",
   "name": "python3"
  },
  "language_info": {
   "codemirror_mode": {
    "name": "ipython",
    "version": 3
   },
   "file_extension": ".py",
   "mimetype": "text/x-python",
   "name": "python",
   "nbconvert_exporter": "python",
   "pygments_lexer": "ipython3",
   "version": "3.5.2"
  }
 },
 "nbformat": 4,
 "nbformat_minor": 2
}
