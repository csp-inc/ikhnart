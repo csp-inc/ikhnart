{
 "cells": [
  {
   "cell_type": "code",
   "execution_count": 1,
   "metadata": {},
   "outputs": [
    {
     "name": "stdout",
     "output_type": "stream",
     "text": [
      "Collecting geopandas\n",
      "  Downloading https://files.pythonhosted.org/packages/21/80/da2a33c9201cd4ce693f4aa6189efc9ef1a48bec1c3b02c3ce9908b07fec/geopandas-0.5.1-py2.py3-none-any.whl (893kB)\n",
      "Collecting fiona (from geopandas)\n",
      "  Downloading https://files.pythonhosted.org/packages/4f/e2/841f27ccf7a00095c251554642025f64c44fbe2a121b2f33a76e9fbff2b2/Fiona-1.8.6-cp35-cp35m-manylinux1_x86_64.whl (17.8MB)\n",
      "Collecting shapely (from geopandas)\n",
      "  Downloading https://files.pythonhosted.org/packages/a2/6c/966fa320a88fc685c956af08135855fa84a1589631256abebf73721c26ed/Shapely-1.6.4.post2-cp35-cp35m-manylinux1_x86_64.whl (1.5MB)\n",
      "Collecting pyproj (from geopandas)\n",
      "  Downloading https://files.pythonhosted.org/packages/f7/9a/3b3d85e59077527909ccdfcfbb517bde32c4cba0c82c3c0715cecd44a0d0/pyproj-2.2.1-cp35-cp35m-manylinux1_x86_64.whl (11.2MB)\n",
      "Requirement already satisfied: pandas in /usr/local/lib/python3.5/dist-packages (from geopandas) (0.23.4)\n",
      "Requirement already satisfied: attrs>=17 in /usr/local/lib/python3.5/dist-packages (from fiona->geopandas) (18.1.0)\n",
      "Collecting munch (from fiona->geopandas)\n",
      "  Downloading https://files.pythonhosted.org/packages/68/f4/260ec98ea840757a0da09e0ed8135333d59b8dfebe9752a365b04857660a/munch-2.3.2.tar.gz\n",
      "Requirement already satisfied: six>=1.7 in /usr/local/lib/python3.5/dist-packages (from fiona->geopandas) (1.11.0)\n",
      "Requirement already satisfied: click<8,>=4.0 in /usr/local/lib/python3.5/dist-packages (from fiona->geopandas) (6.7)\n",
      "Requirement already satisfied: click-plugins>=1.0 in /usr/local/lib/python3.5/dist-packages (from fiona->geopandas) (1.0.3)\n",
      "Collecting cligj>=0.5 (from fiona->geopandas)\n",
      "  Downloading https://files.pythonhosted.org/packages/e4/be/30a58b4b0733850280d01f8bd132591b4668ed5c7046761098d665ac2174/cligj-0.5.0-py3-none-any.whl\n",
      "Collecting aenum; python_version < \"3.6\" (from pyproj->geopandas)\n",
      "  Downloading https://files.pythonhosted.org/packages/50/01/cd83899880e45a5993d5634a1a1e9dabbcc5dcb6808a4d95a8fecafcebd2/aenum-2.2.1-py3-none-any.whl (40kB)\n",
      "Requirement already satisfied: python-dateutil>=2.5.0 in /usr/local/lib/python3.5/dist-packages (from pandas->geopandas) (2.7.3)\n",
      "Requirement already satisfied: pytz>=2011k in /usr/local/lib/python3.5/dist-packages (from pandas->geopandas) (2018.5)\n",
      "Requirement already satisfied: numpy>=1.9.0 in /usr/local/lib/python3.5/dist-packages (from pandas->geopandas) (1.15.1)\n",
      "Building wheels for collected packages: munch\n",
      "  Running setup.py bdist_wheel for munch: started\n",
      "  Running setup.py bdist_wheel for munch: finished with status 'done'\n",
      "  Stored in directory: /root/.cache/pip/wheels/db/bf/bc/06a3e1bfe0ab27d2e720ceb3cff3159398d92644c0cec2c125\n",
      "Successfully built munch\n",
      "Installing collected packages: munch, cligj, fiona, shapely, aenum, pyproj, geopandas\n",
      "  Found existing installation: cligj 0.4.0\n",
      "    Uninstalling cligj-0.4.0:\n",
      "      Successfully uninstalled cligj-0.4.0\n",
      "Successfully installed aenum-2.2.1 cligj-0.5.0 fiona-1.8.6 geopandas-0.5.1 munch-2.3.2 pyproj-2.2.1 shapely-1.6.4.post2\n",
      "Collecting descartes\n",
      "  Downloading https://files.pythonhosted.org/packages/e5/b6/1ed2eb03989ae574584664985367ba70cd9cf8b32ee8cad0e8aaeac819f3/descartes-1.1.0-py3-none-any.whl\n",
      "Requirement already satisfied: matplotlib in /usr/local/lib/python3.5/dist-packages (from descartes) (2.2.3)\n",
      "Requirement already satisfied: kiwisolver>=1.0.1 in /usr/local/lib/python3.5/dist-packages (from matplotlib->descartes) (1.0.1)\n",
      "Requirement already satisfied: cycler>=0.10 in /usr/local/lib/python3.5/dist-packages (from matplotlib->descartes) (0.10.0)\n",
      "Requirement already satisfied: six>=1.10 in /usr/local/lib/python3.5/dist-packages (from matplotlib->descartes) (1.11.0)\n",
      "Requirement already satisfied: python-dateutil>=2.1 in /usr/local/lib/python3.5/dist-packages (from matplotlib->descartes) (2.7.3)\n",
      "Requirement already satisfied: pyparsing!=2.0.4,!=2.1.2,!=2.1.6,>=2.0.1 in /usr/local/lib/python3.5/dist-packages (from matplotlib->descartes) (2.2.0)\n",
      "Requirement already satisfied: numpy>=1.7.1 in /usr/local/lib/python3.5/dist-packages (from matplotlib->descartes) (1.15.1)\n",
      "Requirement already satisfied: pytz in /usr/local/lib/python3.5/dist-packages (from matplotlib->descartes) (2018.5)\n",
      "Requirement already satisfied: setuptools in /usr/local/lib/python3.5/dist-packages (from kiwisolver>=1.0.1->matplotlib->descartes) (40.2.0)\n",
      "Installing collected packages: descartes\n",
      "Successfully installed descartes-1.1.0\n"
     ]
    },
    {
     "name": "stderr",
     "output_type": "stream",
     "text": [
      "You are using pip version 18.0, however version 19.2.1 is available.\n",
      "You should consider upgrading via the 'pip install --upgrade pip' command.\n",
      "You are using pip version 18.0, however version 19.2.1 is available.\n",
      "You should consider upgrading via the 'pip install --upgrade pip' command.\n"
     ]
    }
   ],
   "source": [
    "%%bash\n",
    "pip install geopandas\n",
    "pip install descartes"
   ]
  },
  {
   "cell_type": "code",
   "execution_count": 84,
   "metadata": {},
   "outputs": [],
   "source": [
    "from glob import glob\n",
    "import pandas as pd\n",
    "from datetime import datetime \n",
    "import matplotlib.pyplot as plt"
   ]
  },
  {
   "cell_type": "code",
   "execution_count": 167,
   "metadata": {},
   "outputs": [],
   "source": [
    "def format_data(datafile):\n",
    "    ds = pd.read_csv(datafile)\n",
    "    varalias = {k:k.split('_0_0')[0] for k in ds.columns if '0_0' in k}\n",
    "\n",
    "    ds = ds.rename(columns=varalias)\n",
    "    ds = ds.rename(columns={'_SAMPLE_KEY':'PlotKey','_IMG_ID':'id'})\n",
    "    year = pd.Series([int(t.split(',')[0]) for t in ds._IMG_DATE])\n",
    "    jd = pd.Series([int(t.split(',')[1]) for t in ds._IMG_DATE])\n",
    "    ds['date'] = pd.to_datetime(year, format='%Y') + pd.to_timedelta(jd -1, unit='d')\n",
    "    ds.sort_values(by=['date'], inplace=True)\n",
    "    ds.drop(columns=['system:index','_SAMPLE_COORDS','_IMG_DATE','_SAMPLE_PIXELSIZE',\\\n",
    "                     '_SAMPLE_ID','_SAMPLE_PROPERTIES','_IMG_PROJ','.geo'],\\\n",
    "           inplace=True)\n",
    "    return(ds)"
   ]
  },
  {
   "cell_type": "code",
   "execution_count": 185,
   "metadata": {},
   "outputs": [],
   "source": [
    "files = sorted(glob('./data/*TERRACLIMATE_ee_export*.csv'))\n",
    "ds = pd.concat([format_data(f) for f in files])\n",
    "ds.reset_index(inplace=True)\n",
    "ds.drop(columns=['index'], inplace=True)\n",
    "ds.to_csv('./data/processed/TERRACLIMATE_processed.csv', index=False)"
   ]
  },
  {
   "cell_type": "code",
   "execution_count": null,
   "metadata": {},
   "outputs": [],
   "source": []
  }
 ],
 "metadata": {
  "kernelspec": {
   "display_name": "Python 3",
   "language": "python",
   "name": "python3"
  },
  "language_info": {
   "codemirror_mode": {
    "name": "ipython",
    "version": 3
   },
   "file_extension": ".py",
   "mimetype": "text/x-python",
   "name": "python",
   "nbconvert_exporter": "python",
   "pygments_lexer": "ipython3",
   "version": "3.5.2"
  }
 },
 "nbformat": 4,
 "nbformat_minor": 2
}
